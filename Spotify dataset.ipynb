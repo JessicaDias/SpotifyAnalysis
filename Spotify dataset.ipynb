{
 "cells": [
  {
   "cell_type": "markdown",
   "metadata": {},
   "source": [
    "# >> [Spotipy Documentation](https://spotipy.readthedocs.io/en/2.13.0/#)\n",
    "\n",
    "\n",
    "## I. Install Spotipy library\n",
    "\n",
    "`pip install spotipy`\n",
    "\n",
    "[See more](https://pypi.org/project/spotipy/)"
   ]
  },
  {
   "cell_type": "code",
   "execution_count": 1,
   "metadata": {},
   "outputs": [],
   "source": [
    "import pandas as pd\n",
    "from datetime import datetime\n",
    "import spotipy\n",
    "from spotipy.oauth2 import SpotifyClientCredentials"
   ]
  },
  {
   "cell_type": "markdown",
   "metadata": {},
   "source": [
    "## II. Quick start (API access)\n",
    "\n",
    " * Register on the [Spotify website](https://developer.spotify.com/dashboard/) dedicated to developers.\n",
    " * Select **\"Create an App\"**\n",
    " * Register your information\n",
    " * Get your **CLIENT_ID** and **CLIENT_SECRET**"
   ]
  },
  {
   "cell_type": "code",
   "execution_count": 2,
   "metadata": {},
   "outputs": [],
   "source": [
    "client_id = 'your client_id'\n",
    "client_secret = 'your client_secret'\n",
    "\n",
    "client_credentials_manager = SpotifyClientCredentials(client_id = client_id, client_secret = client_secret)\n",
    "sp = spotipy.Spotify(client_credentials_manager = client_credentials_manager)"
   ]
  },
  {
   "cell_type": "markdown",
   "metadata": {},
   "source": [
    "# III. Parameters to access Spotify playlists\n",
    "\n",
    "## a) All playlists of the 50 most played by country\n",
    "\n",
    " * [Charts regional](https://open.spotify.com/genre/charts-regional)"
   ]
  },
  {
   "cell_type": "code",
   "execution_count": 3,
   "metadata": {},
   "outputs": [],
   "source": [
    "top_username = 'spotifycharts'\n",
    "top_playlist_ids = ['37i9dQZEVXbJiZcmkrIHGU','37i9dQZEVXbMMy2roB9myp','37i9dQZEVXbJPcfkRz0wJ0','37i9dQZEVXbKNHh6NIXu36',\n",
    "                    '37i9dQZEVXbJNSeeHswcKB','37i9dQZEVXbJqfMFK4d691','37i9dQZEVXbMXbN3EUUhlg','37i9dQZEVXbNfM2w2mq1B8',\n",
    "                    '37i9dQZEVXbKj23U1GF4IR','37i9dQZEVXbL0GavIqMTeb','37i9dQZEVXbOa2lmxNORXQ','37i9dQZEVXbMZAjGMynsQX',\n",
    "                    '37i9dQZEVXbL3J0k32lWnN','37i9dQZEVXbLxoIml4MYkT','37i9dQZEVXbJlM6nvL1nD1','37i9dQZEVXbKIVTPX9a2Sb',\n",
    "                    '37i9dQZEVXbNFJfN1Vw8d9','37i9dQZEVXbLRQDuF5jeBp','37i9dQZEVXbLesry2Qw2xS','37i9dQZEVXbNBz9cRCSFkY',\n",
    "                    '37i9dQZEVXbMxcczTSoGwZ','37i9dQZEVXbIPWwFssbupI','37i9dQZEVXbJqdarpmTJDL','37i9dQZEVXbLy5tBFyQvd4',\n",
    "                    '37i9dQZEVXbKCF6dqVpDkS','37i9dQZEVXbJp9wcIM9Eo5','37i9dQZEVXbLwpL8TjsxOG','37i9dQZEVXbNHwMxAkvmF8',\n",
    "                    '37i9dQZEVXbLZ52XmnySJg','37i9dQZEVXbObFQZ3JLcXt','37i9dQZEVXbKM896FDX8L1','37i9dQZEVXbKMzVsSGQ49S',\n",
    "                    '37i9dQZEVXbJ6IpvItkve3','37i9dQZEVXbIQnj7RRhdSX','37i9dQZEVXbKXQ4mDTEBXq','37i9dQZEVXbJWuzDrTxbKS',\n",
    "                    '37i9dQZEVXbMx56Rdq5lwc','37i9dQZEVXbKGcyg6TFGx6','37i9dQZEVXbJlfUljuZExa','37i9dQZEVXbO3qyFxbkOE1',\n",
    "                    '37i9dQZEVXbISk8kxnzfCq','37i9dQZEVXbJvfa0Yxg7E7','37i9dQZEVXbM8SIrkERIYl','37i9dQZEVXbKypXHVwk1f0',\n",
    "                    '37i9dQZEVXbNOUPGj7tW6T','37i9dQZEVXbJfdy5b0KP7W','37i9dQZEVXbN6itCcaL3Tt','37i9dQZEVXbKyJS56d1pgi',\n",
    "                    '37i9dQZEVXbLnolsZ8PSNw','37i9dQZEVXbKAbrMR8uuf7','37i9dQZEVXbNZbJ6TZelCq','37i9dQZEVXbL8l7ra5vVdB',\n",
    "                    '37i9dQZEVXbK4gjvS1FjPY','37i9dQZEVXbLoATJ81JYXz','37i9dQZEVXbJiyhoAPEfMK','37i9dQZEVXbMnz8KIWsvf9',\n",
    "                    '37i9dQZEVXbMnZEatlMSiu','37i9dQZEVXbIP3c3fqVrJY','37i9dQZEVXbIVYVBNw9D5K','37i9dQZEVXbKkidEfWYRuD',\n",
    "                    '37i9dQZEVXbMJJi3wgRbAy','37i9dQZEVXbLdGSmz6xilI','37i9dQZEVXbMDoHDwVN2tF','37i9dQZEVXbMH2jvi6jvjk']"
   ]
  },
  {
   "cell_type": "markdown",
   "metadata": {},
   "source": [
    "## b) A random playlist of each musical genre\n",
    "\n",
    "**Playlists:** Esquenta Sertanejo, Funk Hits, Pagodeira, Lacradorxs, RAPública, Sucessos Gospel,\n",
    "Divina MPB, Indiespensável, Mansión Reggaetón, Nação Reggae, R&B Brasil, Kpop Daebak,\n",
    "Jazz Classics, Arab X, African Heat, Tokyo Super Hits!, Desi Hits, Blues Classics,\n",
    "Classic Punk, Kickass Metal, Roots Rising, Rock Leve, Pop Up, Electro Heat"
   ]
  },
  {
   "cell_type": "code",
   "execution_count": 4,
   "metadata": {},
   "outputs": [],
   "source": [
    "username = 'Spotify'\n",
    "playlist_ids = ['37i9dQZF1DXdSjVZQzv2tl','37i9dQZF1DWTkIwO2HDifB','37i9dQZF1DWVjNkaVEkL3X','37i9dQZF1DWZylNQMXNhNe',\n",
    "                '37i9dQZF1DWSIvbYYt1Dvi','37i9dQZF1DX0OEZC3cbQmU','37i9dQZF1DWTWoEMrRMHZ8','37i9dQZF1DWXx6OpWBkqVv',\n",
    "                '37i9dQZF1DWZjqjZMudx9T','37i9dQZF1DWTMlvEhEJDRB','37i9dQZF1DX6EQe4DjJNfI','37i9dQZF1DX9tPFwDMOaN1',\n",
    "                '37i9dQZF1DXbITWG1ZJKYt','37i9dQZF1DWWkrGNlIHxPl','37i9dQZF1DWYkaDif7Ztbp','37i9dQZF1DXafb0IuPwJyF',\n",
    "                '37i9dQZF1DWTwzVdyRpXm1','37i9dQZF1DXd9rSDyQguIk','37i9dQZF1DX3LDIBRoaCDQ','37i9dQZF1DWTcqUzwhNmKv',\n",
    "                '37i9dQZF1DWYV7OOaGhoH0','37i9dQZF1DX4vCk1GJH7zl','37i9dQZF1DX6aTaZa0K6VA','37i9dQZF1DX2R0a3scWaq6']"
   ]
  },
  {
   "cell_type": "markdown",
   "metadata": {},
   "source": [
    "## c) Playlist to predict\n",
    "\n",
    "\n",
    "**Playlist:** \"Novidades da semana\" (username: Spotify)"
   ]
  },
  {
   "cell_type": "code",
   "execution_count": 5,
   "metadata": {},
   "outputs": [],
   "source": [
    "predict_playlist_ids = ['37i9dQZF1DX34KNiFQJNVm']"
   ]
  },
  {
   "cell_type": "markdown",
   "metadata": {},
   "source": [
    "# IV. Collecting data\n",
    "\n",
    "\n",
    "## a) Get track IDs of hits and non hits"
   ]
  },
  {
   "cell_type": "code",
   "execution_count": 6,
   "metadata": {},
   "outputs": [
    {
     "name": "stdout",
     "output_type": "stream",
     "text": [
      "Top 50 songs by country\n",
      "Total number of songs:  3200\n",
      "Number of song after removing duplicates:  1251\n",
      "\n",
      "Random playlist songs by genre\n",
      "Total number of songs:  1635\n",
      "Number of song after removing duplicates:  1621\n",
      "\n",
      "Number of random playlist songs by genre that are not in the Top 50 by country:  1509\n",
      "\n",
      "Predict playlist songs\n",
      "Total number of songs:  60\n",
      "Number of song after removing duplicates:  60\n"
     ]
    }
   ],
   "source": [
    "def get_playlists_id_tracks(username, playlist_id, sp, ids):\n",
    "    offset = 0\n",
    "    songs = []\n",
    "    while True:\n",
    "        content_playlist = sp.user_playlist_tracks(username, playlist_id, fields=None, limit=100, offset=offset)\n",
    "        songs += content_playlist['items']\n",
    "        if content_playlist['next'] is not None:\n",
    "            offset += 100\n",
    "        else:\n",
    "            break\n",
    "    for i in songs:\n",
    "        # Consider music only\n",
    "        if (i['track'] != None):\n",
    "            ids.append(i['track']['id'])\n",
    "    \n",
    "def remove_duplicates(ids):\n",
    "    print(\"Total number of songs: \", len(ids))\n",
    "    final_ids = list(set(ids))\n",
    "    print(\"Number of song after removing duplicates: \", len(final_ids))\n",
    "    return final_ids\n",
    "\n",
    "# Get top (hit) track ids\n",
    "print(\"Top 50 songs by country\")\n",
    "top_ids = []\n",
    "for playlist_id in top_playlist_ids:\n",
    "    get_playlists_id_tracks(top_username, playlist_id, sp, top_ids)\n",
    "top_ids = remove_duplicates(top_ids)\n",
    "\n",
    "# Get genre track ids\n",
    "print(\"\\nRandom playlist songs by genre\")\n",
    "genre_ids = []\n",
    "for playlist_id in playlist_ids:\n",
    "    get_playlists_id_tracks(username, playlist_id, sp, genre_ids)\n",
    "genre_ids = remove_duplicates(genre_ids)\n",
    "\n",
    "#  Get only non hit track ids\n",
    "non_hit_ids = [x for x in genre_ids if x not in top_ids]\n",
    "print(\"\\nNumber of random playlist songs by genre that are not in the Top 50 by country: \", len(non_hit_ids))\n",
    "\n",
    "# Get predict track ids\n",
    "print(\"\\nPredict playlist songs\")\n",
    "predict_ids = []\n",
    "for playlist_id in predict_playlist_ids:\n",
    "    get_playlists_id_tracks(username, playlist_id, sp, predict_ids)\n",
    "predict_ids = remove_duplicates(predict_ids)"
   ]
  },
  {
   "cell_type": "markdown",
   "metadata": {},
   "source": [
    "## b) Get track information\n",
    "\n",
    "\n",
    "**Track information:** Name of the song, artist and popularity.\n",
    "\n",
    "**Audio features:** Relevant features from [Audio Features Object](https://developer.spotify.com/documentation/web-api/reference/tracks/get-audio-features/)"
   ]
  },
  {
   "cell_type": "code",
   "execution_count": 7,
   "metadata": {},
   "outputs": [],
   "source": [
    "def get_track_info(track_ids, track_name, artist_name, popularity):\n",
    "    for id in track_ids:\n",
    "        info = sp.track(id)\n",
    "        track_name.append(info['name']) \n",
    "        artist_name.append(info['artists'][0]['name'])\n",
    "        popularity.append(info['popularity'])\n",
    "\n",
    "def get_track_features(track_ids, features_list): \n",
    "    index = 0\n",
    "    audio_features = []\n",
    "    while index < len(track_ids):\n",
    "        audio_features += sp.audio_features(track_ids[index:index + 50])\n",
    "        index += 50\n",
    "    for features in audio_features:\n",
    "        features_list.append([features['energy'], features['liveness'], features['tempo'], features['speechiness'],\n",
    "                              features['acousticness'], features['instrumentalness'], features['time_signature'],\n",
    "                              features['danceability'], features['key'], features['duration_ms'],\n",
    "                              features['loudness'], features['valence'], features['mode']])\n",
    "\n",
    "# Get information from success tracks\n",
    "top_track_name = []\n",
    "top_artist_name = []\n",
    "top_popularity = []\n",
    "top_features_list = []\n",
    "get_track_info(top_ids, top_track_name, top_artist_name, top_popularity)\n",
    "get_track_features(top_ids, top_features_list)\n",
    "\n",
    "# Get information from non success tracks\n",
    "track_name = []\n",
    "artist_name = []\n",
    "popularity = []\n",
    "features_list = []\n",
    "get_track_info(non_hit_ids, track_name, artist_name, popularity)\n",
    "get_track_features(non_hit_ids, features_list)\n",
    "\n",
    "# Get information from predict tracks\n",
    "predict_track_name = []\n",
    "predict_artist_name = []\n",
    "predict_popularity = []\n",
    "predict_features_list = []\n",
    "get_track_info(predict_ids, predict_track_name, predict_artist_name, predict_popularity)\n",
    "get_track_features(predict_ids, predict_features_list)"
   ]
  },
  {
   "cell_type": "markdown",
   "metadata": {},
   "source": [
    "## c) DataFrame builder"
   ]
  },
  {
   "cell_type": "code",
   "execution_count": 8,
   "metadata": {},
   "outputs": [],
   "source": [
    "def build_dataframe(features_list, track_name, artist_name, popularity, top, predict):\n",
    "    df = pd.DataFrame(features_list, columns=['energy', 'liveness', 'tempo', 'speechiness', 'acousticness',\n",
    "                                              'instrumentalness', 'time_signature', 'danceability', 'key', 'duration_ms',\n",
    "                                              'loudness', 'valence', 'mode'])\n",
    "    df['artist'] = artist_name\n",
    "    df['track_name'] = track_name\n",
    "    df['popularity'] = popularity\n",
    "    \n",
    "    if not predict:\n",
    "        # Create class column: 1 sucess and 0 non success\n",
    "        if (top):\n",
    "            df['success'] = [1] * len(features_list)\n",
    "        else:\n",
    "            df['success'] = [0] * len(features_list)  \n",
    "    \n",
    "    return df\n",
    "\n",
    "# Build dataframe of hit songs\n",
    "top_df = build_dataframe(top_features_list, top_track_name, top_artist_name, top_popularity, True, False)\n",
    "\n",
    "# Build dataframe of non hit songs\n",
    "df = build_dataframe(features_list, track_name, artist_name, popularity, False, False)\n",
    "\n",
    "# Concatenate the two dataframes\n",
    "final_df = pd.concat([top_df, df])\n",
    "\n",
    "# Build dataframe of songs to predict\n",
    "predict_df = build_dataframe(predict_features_list, predict_track_name, predict_artist_name, predict_popularity, False, True)"
   ]
  },
  {
   "cell_type": "markdown",
   "metadata": {},
   "source": [
    "## d) Export to csv"
   ]
  },
  {
   "cell_type": "code",
   "execution_count": 9,
   "metadata": {},
   "outputs": [],
   "source": [
    "now = datetime.now()\n",
    "date = now.strftime(\"%m%d%Y\")\n",
    "name = ['spotifyAnalysis', 'predictSpotifyAnalysis']\n",
    "dataframe = [final_df, predict_df]\n",
    "\n",
    "for i in range(len(dataframe)):\n",
    "    dataframe[i].to_csv('{}-{}.csv'.format(name[i], date), index=False)"
   ]
  }
 ],
 "metadata": {
  "kernelspec": {
   "display_name": "Python 3",
   "language": "python",
   "name": "python3"
  },
  "language_info": {
   "codemirror_mode": {
    "name": "ipython",
    "version": 3
   },
   "file_extension": ".py",
   "mimetype": "text/x-python",
   "name": "python",
   "nbconvert_exporter": "python",
   "pygments_lexer": "ipython3",
   "version": "3.7.6"
  }
 },
 "nbformat": 4,
 "nbformat_minor": 4
}
